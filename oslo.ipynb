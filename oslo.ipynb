{
 "cells": [
  {
   "cell_type": "code",
   "execution_count": 1,
   "metadata": {},
   "outputs": [],
   "source": [
    "# Python 3.10.6\n",
    "# Run static type checking with `nbqa mypy oslo.ipynb`\n",
    "# Run code formatting with `nbqa autopep8 --in-place oslo.ipynb`\n",
    "\n",
    "import random\n",
    "import matplotlib.pyplot as plt  # type: ignore\n",
    "import numpy as np\n",
    "from time import sleep\n",
    "from IPython.display import clear_output  # type: ignore"
   ]
  },
  {
   "cell_type": "code",
   "execution_count": 110,
   "metadata": {},
   "outputs": [],
   "source": [
    "class Model:\n",
    "    def __init__(self, length: int) -> None:\n",
    "        \"\"\"\n",
    "        Initialise a new Oslo model of a given length\n",
    "        \"\"\"\n",
    "        # min length of 3\n",
    "        if length < 3:\n",
    "            raise Exception(\"Min length is 3\")\n",
    "        self.length: int = length\n",
    "        # the number of grains at a given location\n",
    "        self.heights: list[int] = [0] * length\n",
    "        # the gradient at a given location\n",
    "        self.gradients: list[int] = [0] * length\n",
    "        # generate an empty thresholds list\n",
    "        self.thresholds: list[int] = [0] * length\n",
    "        # record that the system is in the transient state\n",
    "        self.is_transient: bool = True\n",
    "        # randomise each of the new threshold values\n",
    "        for i in range(length):\n",
    "            self.new_threshold(i)\n",
    "        # set plotting interactive mode on\n",
    "        plt.ion()\n",
    "\n",
    "    def get_length(self) -> int:\n",
    "        return self.length\n",
    "\n",
    "    def get_heights(self) -> list[int]:\n",
    "        return self.heights\n",
    "\n",
    "    def get_gradients(self) -> list[int]:\n",
    "        return self.gradients\n",
    "\n",
    "    def get_thresholds(self) -> list[int]:\n",
    "        return self.thresholds\n",
    "\n",
    "    def get_pile_height(self) -> int:\n",
    "        return self.heights[0]\n",
    "\n",
    "    def get_is_transient(self) -> bool:\n",
    "        return self.is_transient\n",
    "\n",
    "    def check_index_in_range(self, i: int) -> None:\n",
    "        \"\"\"\n",
    "        Check the index is within the range of the model.\n",
    "        If not, raise an exception\n",
    "        \"\"\"\n",
    "        # note z_1 has index 0, z_l has index L-1\n",
    "        if i >= self.length:\n",
    "            raise Exception(\"Index out of range\")\n",
    "\n",
    "    def new_threshold(self, i: int) -> None:\n",
    "        \"\"\"\n",
    "        Set a new threshold at position `i`.\n",
    "        The threshold will be either 1 or 2 with equal chance.\n",
    "        \"\"\"\n",
    "        self.check_index_in_range(i)\n",
    "        self.thresholds[i] = random.randint(1, 2)\n",
    "\n",
    "    def drive(self) -> None:\n",
    "        \"\"\"\n",
    "        Add a single grain to the first position\n",
    "        \"\"\"\n",
    "        self.heights[0] += 1\n",
    "        self.gradients[0] += 1\n",
    "\n",
    "    def is_supercritical(self, i: int) -> bool:\n",
    "        \"\"\"\n",
    "        Return whether position `i`` is above the threshold\n",
    "        \"\"\"\n",
    "        self.check_index_in_range(i)\n",
    "        return self.gradients[i] > self.thresholds[i]\n",
    "\n",
    "    def relax(self, i: int) -> None:\n",
    "        \"\"\"\n",
    "        Relax the  site `i`, assuming it is above the threshold\n",
    "        \"\"\"\n",
    "        self.check_index_in_range(i)\n",
    "        if i == 0:\n",
    "            self.heights[i] -= 1\n",
    "            self.heights[i+1] += 1\n",
    "            self.gradients[i] -= 2\n",
    "            self.gradients[i+1] += 1\n",
    "        elif i == self.length - 1:\n",
    "            # end relaxation marks the transition to steady state\n",
    "            if self.is_transient: self.is_transient = False\n",
    "            self.heights[i] -= 1\n",
    "            self.gradients[i] -= 1\n",
    "            self.gradients[i-1] += 1\n",
    "        else:\n",
    "            self.heights[i] -= 1\n",
    "            self.heights[i+1] += 1\n",
    "            self.gradients[i] -= 2\n",
    "            self.gradients[i-1] += 1\n",
    "            self.gradients[i+1] += 1\n",
    "\n",
    "        # ensure no values are below zero\n",
    "        if self.heights[i] < 0:\n",
    "            self.heights[i] = 0\n",
    "        if self.gradients[i] < 0:\n",
    "            self.gradients[i] = 0\n",
    "\n",
    "        self.new_threshold(i)\n",
    "\n",
    "    def cycle(self) -> None:\n",
    "        \"\"\"\n",
    "        Perform one system cycle of driving and relaxation.\n",
    "        \"\"\"\n",
    "        # add a grain to the first position\n",
    "        self.drive()\n",
    "        # relax all positions until stable\n",
    "        pointer = 0\n",
    "        while pointer < self.length:\n",
    "            if self.is_supercritical(pointer):\n",
    "                self.relax(pointer)\n",
    "                pointer -= 1\n",
    "                if pointer < 0:\n",
    "                    pointer = 0\n",
    "            else:\n",
    "                pointer += 1\n",
    "\n",
    "    def plot(self, sleep_amount=0, clear_screen=True) -> None:\n",
    "        \"\"\"\n",
    "        Show the current state of the system in a graphic\n",
    "        \"\"\"\n",
    "        sleep(sleep_amount)\n",
    "        if clear_screen: clear_output()\n",
    "        f = plt.figure()\n",
    "        f.set_figwidth(3)\n",
    "        f.set_figheight(6)\n",
    "        plt.bar(np.array(range(self.length)) + 1, self.heights)\n",
    "        plt.axis('scaled')\n",
    "        plt.yticks(range(self.length * 2))\n",
    "        plt.xticks(np.array(range(self.length)) + 1)\n",
    "        plt.grid(axis='y')\n",
    "        plt.show()"
   ]
  },
  {
   "attachments": {},
   "cell_type": "markdown",
   "metadata": {},
   "source": [
    "### Testing the basic plotting function"
   ]
  },
  {
   "cell_type": "code",
   "execution_count": 84,
   "metadata": {},
   "outputs": [
    {
     "data": {
      "image/png": "[encoded data removed]",
      "text/plain": [
       "<Figure size 300x600 with 1 Axes>"
      ]
     },
     "metadata": {},
     "output_type": "display_data"
    }
   ],
   "source": [
    "sleep_amount = 0.1\n",
    "\n",
    "test_model = Model(3)\n",
    "\n",
    "for i in range(100):\n",
    "    test_model.plot(sleep_amount)\n",
    "    test_model.cycle()"
   ]
  },
  {
   "attachments": {},
   "cell_type": "markdown",
   "metadata": {},
   "source": [
    "### Testing the logic"
   ]
  },
  {
   "cell_type": "code",
   "execution_count": 132,
   "metadata": {},
   "outputs": [
    {
     "name": "stdout",
     "output_type": "stream",
     "text": [
      "202\n"
     ]
    }
   ],
   "source": [
    "# measuring transient phase for L16 \n",
    "test_model = Model(16)\n",
    "counter = 0\n",
    "while test_model.get_is_transient():\n",
    "        test_model.cycle()\n",
    "        counter += 1\n",
    "print(counter)"
   ]
  },
  {
   "cell_type": "code",
   "execution_count": 136,
   "metadata": {},
   "outputs": [
    {
     "name": "stdout",
     "output_type": "stream",
     "text": [
      "815\n"
     ]
    }
   ],
   "source": [
    "# measuring transient phase for L32 \n",
    "test_model = Model(32)\n",
    "counter = 0\n",
    "while test_model.get_is_transient():\n",
    "        test_model.cycle()\n",
    "        counter += 1\n",
    "print(counter)"
   ]
  },
  {
   "cell_type": "code",
   "execution_count": 126,
   "metadata": {},
   "outputs": [
    {
     "name": "stdout",
     "output_type": "stream",
     "text": [
      "26.52\n"
     ]
    }
   ],
   "source": [
    "# L16 model should have average height of 26.5\n",
    "\n",
    "final_heights = []\n",
    "\n",
    "for i in range(50):\n",
    "    test_model = Model(16)\n",
    "    # get to steady state\n",
    "    while test_model.get_is_transient():\n",
    "        test_model.cycle()\n",
    "    # once in steady state run for a set number of trials\n",
    "    for i in range(1000):\n",
    "        test_model.cycle()\n",
    "    final_heights.append(test_model.get_pile_height())\n",
    "\n",
    "print(np.average(final_heights))"
   ]
  },
  {
   "cell_type": "code",
   "execution_count": 137,
   "metadata": {},
   "outputs": [
    {
     "name": "stdout",
     "output_type": "stream",
     "text": [
      "53.9\n"
     ]
    }
   ],
   "source": [
    "# L32 model should have average height of 53.9\n",
    "\n",
    "final_heights = []\n",
    "\n",
    "for i in range(50):\n",
    "    test_model = Model(32)\n",
    "    # get to steady state\n",
    "    while test_model.get_is_transient():\n",
    "        test_model.cycle()\n",
    "    # once in steady state run for a set number of trials\n",
    "    for i in range(1000):\n",
    "        test_model.cycle()\n",
    "    final_heights.append(test_model.get_pile_height())\n",
    "\n",
    "print(np.average(final_heights))"
   ]
  },
  {
   "attachments": {},
   "cell_type": "markdown",
   "metadata": {},
   "source": [
    "### 2a) Height of the Pile"
   ]
  },
  {
   "cell_type": "code",
   "execution_count": 138,
   "metadata": {},
   "outputs": [
    {
     "name": "stdout",
     "output_type": "stream",
     "text": [
      "56018\n"
     ]
    }
   ],
   "source": [
    "# measuring transient phase for L256, seems to be 50-60k cycles\n",
    "test_model = Model(256)\n",
    "counter = 0\n",
    "while test_model.get_is_transient():\n",
    "        test_model.cycle()\n",
    "        counter += 1\n",
    "print(counter)"
   ]
  },
  {
   "cell_type": "code",
   "execution_count": 143,
   "metadata": {},
   "outputs": [],
   "source": [
    "heights = []\n",
    "lengths = [4, 8, 16, 32, 64, 128, 256]\n",
    "number_cycles = 80000"
   ]
  },
  {
   "cell_type": "code",
   "execution_count": 158,
   "metadata": {},
   "outputs": [
    {
     "name": "stdout",
     "output_type": "stream",
     "text": [
      "4 complete\n",
      "8 complete\n",
      "16 complete\n",
      "32 complete\n",
      "64 complete\n",
      "128 complete\n",
      "256 complete\n"
     ]
    }
   ],
   "source": [
    "for length in lengths:\n",
    "    output = []\n",
    "    model = Model(length)\n",
    "    for i in range(number_cycles):\n",
    "        model.cycle()\n",
    "        output.append(model.get_pile_height())\n",
    "    heights.append(output)\n",
    "    print(length, 'complete')"
   ]
  },
  {
   "cell_type": "code",
   "execution_count": 181,
   "metadata": {},
   "outputs": [
    {
     "data": {
      "image/png": "[encoded data removed]",
      "text/plain": [
       "<Figure size 640x480 with 1 Axes>"
      ]
     },
     "metadata": {},
     "output_type": "display_data"
    }
   ],
   "source": [
    "for i in reversed(range(len(lengths))):\n",
    "    plt.plot(range(number_cycles), heights[i], label=str(lengths[i]), linewidth=1)\n",
    "plt.legend()\n",
    "plt.xlabel(\"Cycle Number\")\n",
    "plt.ylabel(\"Pile Height\")\n",
    "plt.show()"
   ]
  }
 ],
 "metadata": {
  "kernelspec": {
   "display_name": "Python 3",
   "language": "python",
   "name": "python3"
  },
  "language_info": {
   "codemirror_mode": {
    "name": "ipython",
    "version": 3
   },
   "file_extension": ".py",
   "mimetype": "text/x-python",
   "name": "python",
   "nbconvert_exporter": "python",
   "pygments_lexer": "ipython3",
   "version": "3.10.6"
  },
  "orig_nbformat": 4,
  "vscode": {
   "interpreter": {
    "hash": "b0fa6594d8f4cbf19f97940f81e996739fb7646882a419484c72d19e05852a7e"
   }
  }
 },
 "nbformat": 4,
 "nbformat_minor": 2
}
