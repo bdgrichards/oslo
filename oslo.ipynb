{
 "cells": [
  {
   "cell_type": "code",
   "execution_count": 87,
   "metadata": {},
   "outputs": [],
   "source": [
    "# Python 3.10.6\n",
    "# Run static type checking with `nbqa mypy oslo.ipynb`\n",
    "# Run code formatting with `nbqa autopep8 --in-place oslo.ipynb`\n",
    "\n",
    "import random\n",
    "import matplotlib.pyplot as plt # type: ignore\n",
    "import numpy as np"
   ]
  },
  {
   "cell_type": "code",
   "execution_count": 84,
   "metadata": {},
   "outputs": [],
   "source": [
    "class Model:\n",
    "    def __init__(self, length: int) -> None:\n",
    "        \"\"\"\n",
    "        Initialise a new Oslo model of a given length\n",
    "        \"\"\"\n",
    "        # min length of 5\n",
    "        if length < 5:\n",
    "            raise Exception(\"Min length is 5\")\n",
    "        self.length: int = length\n",
    "        # the number of grains at a given location\n",
    "        self.heights: list[int] = [0] * length\n",
    "        # the gradient at a given location\n",
    "        self.gradients: list[int] = [0] * length\n",
    "        # generate an empty thresholds list\n",
    "        self.thresholds: list[int] = [0] * length\n",
    "        # randomise each of the new threshold values\n",
    "        for i in range(length):\n",
    "            self.new_threshold(i)\n",
    "\n",
    "    def get_length(self) -> int:\n",
    "        return self.length\n",
    "\n",
    "    def get_heights(self) -> list[int]:\n",
    "        return self.heights\n",
    "\n",
    "    def get_gradients(self) -> list[int]:\n",
    "        return self.gradients\n",
    "\n",
    "    def get_thresholds(self) -> list[int]:\n",
    "        return self.thresholds\n",
    "\n",
    "    def check_index_in_range(self, i: int) -> None:\n",
    "        \"\"\"\n",
    "        Check the index is within the range of the model.\n",
    "        If not, raise an exception\n",
    "        \"\"\"\n",
    "        # note z_1 has index 0, z_l has index L-1\n",
    "        if i >= self.length:\n",
    "            raise Exception(\"Index out of range\")\n",
    "\n",
    "    def new_threshold(self, i: int) -> None:\n",
    "        \"\"\"\n",
    "        Set a new threshold at position `i`.\n",
    "        The threshold will be either 1 or 2 with equal chance.\n",
    "        \"\"\"\n",
    "        self.check_index_in_range(i)\n",
    "        self.thresholds[i] = random.randint(1, 2)\n",
    "\n",
    "    def drive(self) -> None:\n",
    "        \"\"\"\n",
    "        Add a single grain to the first position\n",
    "        \"\"\"\n",
    "        self.heights[0] += 1\n",
    "        self.gradients[0] += 1\n",
    "\n",
    "    def is_above_threshold(self, i: int) -> bool:\n",
    "        \"\"\"\n",
    "        Return whether position `i`` is above the threshold\n",
    "        \"\"\"\n",
    "        self.check_index_in_range(i)\n",
    "        return self.gradients[i] > self.thresholds[i]\n",
    "\n",
    "    def relax(self, i: int) -> None:\n",
    "        \"\"\"\n",
    "        Relax the  site `i`, assuming it is above the threshold\n",
    "        \"\"\"\n",
    "        self.check_index_in_range(i)\n",
    "        if i == 0:\n",
    "            self.heights[i] -= 1\n",
    "            self.heights[i+1] += 1\n",
    "            self.gradients[i] -= 2\n",
    "            self.gradients[i+1] += 1\n",
    "        elif i == self.length - 1:\n",
    "            self.heights[i] -= 1\n",
    "            self.gradients[i] -= 1\n",
    "            self.gradients[i-1] += 1\n",
    "        else:\n",
    "            self.heights[i] -= 1\n",
    "            self.heights[i+1] += 1\n",
    "            self.gradients[i] -= 2\n",
    "            self.gradients[i-1] += 1\n",
    "            self.gradients[i+1] += 1\n",
    "\n",
    "        # ensure no values are below zero\n",
    "        if self.heights[i] < 0:\n",
    "            self.heights[i] = 0\n",
    "        if self.gradients[i] < 0:\n",
    "            self.gradients[i] = 0\n",
    "\n",
    "        self.new_threshold(i)\n",
    "\n",
    "    def cycle(self) -> None:\n",
    "        \"\"\"\n",
    "        Perform one system cycle of driving and relaxation.\n",
    "        \"\"\"\n",
    "        # add a grain to the first position\n",
    "        self.drive()\n",
    "        # relax all positions until stable\n",
    "        pointer = 0\n",
    "        while pointer < self.length:\n",
    "            if self.is_above_threshold(pointer):\n",
    "                self.relax(pointer)\n",
    "                pointer -= 1\n",
    "                if pointer < 0:\n",
    "                    pointer = 0\n",
    "            else:\n",
    "                pointer += 1\n",
    "\n",
    "    def plot(self) -> None:\n",
    "        \"\"\"\n",
    "        Show the current state of the system in a graphic\n",
    "        \"\"\"\n",
    "        plt.bar(np.array(range(self.length)) + 1, self.heights)\n",
    "        plt.axis('scaled')\n",
    "        plt.grid()\n",
    "        plt.show()"
   ]
  },
  {
   "cell_type": "code",
   "execution_count": 85,
   "metadata": {},
   "outputs": [
    {
     "data": {
      "image/png": "[encoded data removed]",
      "text/plain": [
       "<Figure size 640x480 with 1 Axes>"
      ]
     },
     "metadata": {},
     "output_type": "display_data"
    },
    {
     "data": {
      "image/png": "[encoded data removed]",
      "text/plain": [
       "<Figure size 640x480 with 1 Axes>"
      ]
     },
     "metadata": {},
     "output_type": "display_data"
    },
    {
     "data": {
      "image/png": "[encoded data removed]",
      "text/plain": [
       "<Figure size 640x480 with 1 Axes>"
      ]
     },
     "metadata": {},
     "output_type": "display_data"
    },
    {
     "data": {
      "image/png": "[encoded data removed]",
      "text/plain": [
       "<Figure size 640x480 with 1 Axes>"
      ]
     },
     "metadata": {},
     "output_type": "display_data"
    },
    {
     "data": {
      "image/png": "[encoded data removed]",
      "text/plain": [
       "<Figure size 640x480 with 1 Axes>"
      ]
     },
     "metadata": {},
     "output_type": "display_data"
    },
    {
     "data": {
      "image/png": "[encoded data removed]",
      "text/plain": [
       "<Figure size 640x480 with 1 Axes>"
      ]
     },
     "metadata": {},
     "output_type": "display_data"
    }
   ],
   "source": [
    "test_model = Model(8)\n",
    "test_model.plot()\n",
    "test_model.cycle()\n",
    "test_model.plot()\n",
    "test_model.cycle()\n",
    "test_model.plot()\n",
    "test_model.cycle()\n",
    "test_model.plot()\n",
    "test_model.cycle()\n",
    "test_model.plot()\n",
    "test_model.cycle()\n",
    "test_model.plot()"
   ]
  }
 ],
 "metadata": {
  "kernelspec": {
   "display_name": "Python 3",
   "language": "python",
   "name": "python3"
  },
  "language_info": {
   "codemirror_mode": {
    "name": "ipython",
    "version": 3
   },
   "file_extension": ".py",
   "mimetype": "text/x-python",
   "name": "python",
   "nbconvert_exporter": "python",
   "pygments_lexer": "ipython3",
   "version": "3.10.6"
  },
  "orig_nbformat": 4,
  "vscode": {
   "interpreter": {
    "hash": "b0fa6594d8f4cbf19f97940f81e996739fb7646882a419484c72d19e05852a7e"
   }
  }
 },
 "nbformat": 4,
 "nbformat_minor": 2
}
